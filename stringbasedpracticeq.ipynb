{
 "cells": [
  {
   "cell_type": "code",
   "execution_count": 2,
   "id": "2a42acea-55c3-4907-9fc1-f6c8193e0525",
   "metadata": {},
   "outputs": [
    {
     "name": "stdout",
     "output_type": "stream",
     "text": [
      "edoc ot ydaer\n"
     ]
    }
   ],
   "source": [
    "#Write a program to reverse a string.\n",
    "\n",
    "a = \"ready to code\"\n",
    "b = a[::-1]\n",
    "print(b)"
   ]
  },
  {
   "cell_type": "code",
   "execution_count": 5,
   "id": "03f61dcb-2da1-48a2-aa79-6ceb8a72eb04",
   "metadata": {},
   "outputs": [
    {
     "name": "stdin",
     "output_type": "stream",
     "text": [
      " madam\n"
     ]
    },
    {
     "name": "stdout",
     "output_type": "stream",
     "text": [
      "it is a palindrome\n"
     ]
    }
   ],
   "source": [
    "#Check if a string is a palindrome.\n",
    "\n",
    "a = input()\n",
    "if a == a[::-1]:\n",
    "    print(\"it is a palindrome\")\n",
    "else:\n",
    "    print(\"it is not a palindrome\")"
   ]
  },
  {
   "cell_type": "code",
   "execution_count": 6,
   "id": "050a7b24-d179-4f7e-89e7-e5190d8aa8cf",
   "metadata": {},
   "outputs": [
    {
     "name": "stdout",
     "output_type": "stream",
     "text": [
      "DEEPAK\n"
     ]
    }
   ],
   "source": [
    "#3. Convert a string to uppercase.\n",
    "\n",
    "a = \"deepak\"\n",
    "b = a.upper()\n",
    "print(b)\n"
   ]
  },
  {
   "cell_type": "code",
   "execution_count": 7,
   "id": "17fe567d-3fb4-4e5d-8172-0564e987f45d",
   "metadata": {},
   "outputs": [
    {
     "name": "stdout",
     "output_type": "stream",
     "text": [
      "deepak\n"
     ]
    }
   ],
   "source": [
    "#4. Convert a string to lowercase.\n",
    "a = \"deepak\"\n",
    "b = a.lower()\n",
    "print(b)"
   ]
  },
  {
   "cell_type": "code",
   "execution_count": 9,
   "id": "6a0adbd5-fead-4f5e-898c-86b95fe750bf",
   "metadata": {},
   "outputs": [
    {
     "name": "stdin",
     "output_type": "stream",
     "text": [
      "Enter a string:  d\n"
     ]
    },
    {
     "name": "stdout",
     "output_type": "stream",
     "text": [
      "Number of vowels in the string: 0\n"
     ]
    }
   ],
   "source": [
    "#5. Count the number of vowels in a string.\n",
    "\n",
    "\n",
    "input_string = input(\"Enter a string: \")\n",
    "\n",
    "\n",
    "vowels = \"aeiouAEIOU\"\n",
    "\n",
    "\n",
    "vowel_count = 0\n",
    "\n",
    "\n",
    "for char in input_string:\n",
    "    if char in vowels:\n",
    "        vowel_count += 1\n",
    "\n",
    "\n",
    "print(f\"Number of vowels in the string: {vowel_count}\")\n"
   ]
  },
  {
   "cell_type": "code",
   "execution_count": 11,
   "id": "eb33dcba-dae4-45c7-bcc6-39811175b8cf",
   "metadata": {},
   "outputs": [
    {
     "name": "stdin",
     "output_type": "stream",
     "text": [
      "Enter a string:  deepak\n"
     ]
    },
    {
     "name": "stdout",
     "output_type": "stream",
     "text": [
      "Number of vowels in the string: 3\n"
     ]
    }
   ],
   "source": [
    "# Count the number of consonants in a string.\n",
    "\n",
    "\n",
    "input_string = input(\"Enter a string: \")\n",
    "\n",
    "\n",
    "vowels = \"aeiouAEIOU\"\n",
    "\n",
    "\n",
    "vowel_count = 0\n",
    "\n",
    "\n",
    "for char in input_string:\n",
    "    if char not in vowels:\n",
    "        vowel_count += 1\n",
    "\n",
    "\n",
    "print(f\"Number of vowels in the string: {vowel_count}\")\n",
    "\n",
    "\n",
    "\n"
   ]
  },
  {
   "cell_type": "code",
   "execution_count": 18,
   "id": "e8815415-b547-4743-8434-2103453f62ec",
   "metadata": {},
   "outputs": [
    {
     "name": "stdout",
     "output_type": "stream",
     "text": [
      "pwskills\n"
     ]
    }
   ],
   "source": [
    "# Remove all whitespaces from a string.\n",
    "\n",
    "a = \"pwskills  \"\n",
    "b = a.replace(\" \",\"\")\n",
    "print(b)\n",
    "\n",
    "\n",
    "\n"
   ]
  },
  {
   "cell_type": "code",
   "execution_count": 31,
   "id": "dcb17dd2-c8ab-4f85-9043-de39e6ddf04e",
   "metadata": {},
   "outputs": [
    {
     "name": "stdin",
     "output_type": "stream",
     "text": [
      " ddd\n"
     ]
    },
    {
     "name": "stdout",
     "output_type": "stream",
     "text": [
      "The length of the string is: 3\n"
     ]
    }
   ],
   "source": [
    "#Find the length of a string without using the `len()` function.\n",
    "\n",
    "def string_length(input_string):\n",
    "    count = 0\n",
    "    for i in input_string:\n",
    "        count += 1\n",
    "    return count\n",
    "\n",
    "my_string = input()\n",
    "length = string_length(my_string)\n",
    "print(f\"The length of the string is: {length}\")\n",
    "    \n"
   ]
  },
  {
   "cell_type": "code",
   "execution_count": 33,
   "id": "e74cb353-762b-47ef-bd98-f6f1af4bff65",
   "metadata": {},
   "outputs": [
    {
     "name": "stdout",
     "output_type": "stream",
     "text": [
      "Found\n"
     ]
    }
   ],
   "source": [
    "#9. Check if a string contains a specific word.\n",
    "\n",
    "a = \"ready to go school\"\n",
    "b = \"school\"\n",
    "if b in a:\n",
    "    print(\"Found\")\n",
    "else:\n",
    "    print(\"Not Fount\")\n",
    "\n"
   ]
  },
  {
   "cell_type": "code",
   "execution_count": 34,
   "id": "d9f52b0f-72af-4d4b-937d-84678febf348",
   "metadata": {},
   "outputs": [
    {
     "name": "stdout",
     "output_type": "stream",
     "text": [
      "fill the cup\n"
     ]
    }
   ],
   "source": [
    "#10. Replace a word in a string with another word.\n",
    "\n",
    "a = \"fill the bottle\"\n",
    "b = a.replace(\"bottle\",\"cup\")\n",
    "print(b)"
   ]
  },
  {
   "cell_type": "code",
   "execution_count": 35,
   "id": "11472ae5-25c2-4235-806a-094f001d85da",
   "metadata": {},
   "outputs": [
    {
     "name": "stdout",
     "output_type": "stream",
     "text": [
      "4\n"
     ]
    }
   ],
   "source": [
    "#11. Count the occurrences of a word in a string.\n",
    "\n",
    "a = \"ready to go school\"\n",
    "b = a.count(\"o\")\n",
    "print(b)"
   ]
  },
  {
   "cell_type": "code",
   "execution_count": 40,
   "id": "9d07648d-25ba-4333-ae02-03f183087359",
   "metadata": {},
   "outputs": [
    {
     "name": "stdout",
     "output_type": "stream",
     "text": [
      "the first occurrence of the worldgo is at 9\n"
     ]
    }
   ],
   "source": [
    "# 12. Find the first occurrence of a word in a string\n",
    "\n",
    "a = \"ready to go school\"\n",
    "\n",
    "b = \"go\"\n",
    "\n",
    "c = a.find(b)\n",
    "if c != -1:\n",
    "    print(f\"the first occurrence of the world{b} is at {c}\")\n",
    "else :\n",
    "    print(\"not found\")"
   ]
  },
  {
   "cell_type": "code",
   "execution_count": 41,
   "id": "4207e01e-7b7e-42c1-ae39-1cb06db261ba",
   "metadata": {},
   "outputs": [
    {
     "name": "stdout",
     "output_type": "stream",
     "text": [
      "the first occurrence of the worldgo is at 9\n"
     ]
    }
   ],
   "source": [
    "#13. Find the last occurrence of a word in a string.\n",
    "\n",
    "\n",
    "a = \"ready to go school\"\n",
    "\n",
    "b = \"go\"\n",
    "\n",
    "c = a.rfind(b)\n",
    "if c != -1:\n",
    "    print(f\"the first occurrence of the world{b} is at {c}\")\n",
    "else :\n",
    "    print(\"not found\")\n"
   ]
  },
  {
   "cell_type": "code",
   "execution_count": 45,
   "id": "02440f14-a85e-40f2-b351-8d91fb474f8b",
   "metadata": {},
   "outputs": [
    {
     "name": "stdout",
     "output_type": "stream",
     "text": [
      "['ready', 'to', 'go', 'school']\n"
     ]
    }
   ],
   "source": [
    "#Split a string into a list of words.\n",
    "\n",
    "a = \"ready to go school\"\n",
    "b = a.split()\n",
    "print(b)"
   ]
  },
  {
   "cell_type": "code",
   "execution_count": 56,
   "id": "d803a2ec-db74-449b-a445-804bcc383cb4",
   "metadata": {},
   "outputs": [
    {
     "name": "stdout",
     "output_type": "stream",
     "text": [
      "r e a d y   t o   g o   s c h o o l\n"
     ]
    }
   ],
   "source": [
    "#15. Join a list of words into a string.\n",
    "a =\"ready to go school\"\n",
    "\n",
    "b = \" \".join(a)\n",
    "print(b)\n",
    "\n"
   ]
  },
  {
   "cell_type": "code",
   "execution_count": 57,
   "id": "cfbbb788-96f7-4987-829f-623357769cb1",
   "metadata": {},
   "outputs": [
    {
     "name": "stdout",
     "output_type": "stream",
     "text": [
      "r_e_a_d_y_ _t_o_ _g_o_ _s_c_h_o_o_l\n"
     ]
    }
   ],
   "source": [
    "#16. Convert a string where words are separated by spaces to one where words\n",
    "#are separated by underscores.\n",
    "\n",
    "a =\"ready to go school\"\n",
    "b = \"_\".join(a)\n",
    "print(b)\n"
   ]
  },
  {
   "cell_type": "code",
   "execution_count": 58,
   "id": "c6854eb1-80c1-4448-ac16-a0ee1eb27c75",
   "metadata": {},
   "outputs": [
    {
     "name": "stdout",
     "output_type": "stream",
     "text": [
      "True\n"
     ]
    }
   ],
   "source": [
    "#17. Check if a string starts with a specific word or phrase.\n",
    "\n",
    "a = \"ready to go school\"\n",
    "b = a.startswith(\"ready\")\n",
    "print(b)\n",
    "\n",
    "\n",
    "\n"
   ]
  },
  {
   "cell_type": "code",
   "execution_count": 60,
   "id": "b57159a2-56a3-41ab-92f4-2293a2652525",
   "metadata": {},
   "outputs": [
    {
     "name": "stdout",
     "output_type": "stream",
     "text": [
      "True\n"
     ]
    }
   ],
   "source": [
    "#Check if a string ends with a specific word or phrase.\n",
    "\n",
    "a = \"ready to go school\"\n",
    "b = a.endswith(\"school\")\n",
    "print(b)"
   ]
  },
  {
   "cell_type": "code",
   "execution_count": 63,
   "id": "c1a7387b-1e97-4a7a-876e-875cd447239e",
   "metadata": {},
   "outputs": [
    {
     "name": "stdout",
     "output_type": "stream",
     "text": [
      "Hello World\n"
     ]
    }
   ],
   "source": [
    "#19. Convert a string to title case (e.g., \"hello world\" to \"Hello World\").\n",
    "\n",
    "a = \"hello world\"\n",
    "b = a.title()\n",
    "print(b)"
   ]
  },
  {
   "cell_type": "code",
   "execution_count": 65,
   "id": "6be888c6-954f-4998-9196-b3d18a3a4be9",
   "metadata": {},
   "outputs": [
    {
     "name": "stdout",
     "output_type": "stream",
     "text": [
      "school\n"
     ]
    }
   ],
   "source": [
    "#20. Find thelongest word in a string.\n",
    "a = \"ready to go school\"\n",
    "b = max(a.split(),key=len)\n",
    "print(b)\n"
   ]
  },
  {
   "cell_type": "code",
   "execution_count": 66,
   "id": "9a016666-7fd9-4768-b312-c4f8e7459729",
   "metadata": {},
   "outputs": [
    {
     "name": "stdout",
     "output_type": "stream",
     "text": [
      "to\n"
     ]
    }
   ],
   "source": [
    "#21. Find the shortest word in a string.\n",
    "a = \"ready to go school\"\n",
    "b = min(a.split(),key=len)\n",
    "print(b)"
   ]
  },
  {
   "cell_type": "code",
   "execution_count": 69,
   "id": "fea46f89-ec78-4e35-b24f-a86225ecf5c5",
   "metadata": {},
   "outputs": [
    {
     "name": "stdout",
     "output_type": "stream",
     "text": [
      "games play let's\n"
     ]
    }
   ],
   "source": [
    "#22. Reverse the order of words in a string.\n",
    "\n",
    "a = \"let's play games\"\n",
    "b = \" \".join(a.split()[::-1])\n",
    "print(b)"
   ]
  },
  {
   "cell_type": "code",
   "execution_count": 80,
   "id": "2b59f86e-5565-4c96-939e-600b331de3bc",
   "metadata": {},
   "outputs": [
    {
     "name": "stdout",
     "output_type": "stream",
     "text": [
      "True\n"
     ]
    }
   ],
   "source": [
    "#23. Check if a string is alphanumeric.\n",
    "\n",
    "a = \"Python123\"\n",
    "b = a.isalnum()\n",
    "print(b)"
   ]
  },
  {
   "cell_type": "code",
   "execution_count": 83,
   "id": "5e694ada-7ab4-433e-9dea-86f5c3d41301",
   "metadata": {},
   "outputs": [
    {
     "name": "stdout",
     "output_type": "stream",
     "text": [
      "123\n"
     ]
    }
   ],
   "source": [
    "#24. Extract all digits from a string.\n",
    "a = \"Python123\"\n",
    "b = \"\"\n",
    "for i in a:\n",
    "    if i.isdigit():\n",
    "        b +=i\n",
    "print(b)"
   ]
  },
  {
   "cell_type": "code",
   "execution_count": 84,
   "id": "5866084a-def0-4825-a13a-5f22c9b609d9",
   "metadata": {},
   "outputs": [
    {
     "name": "stdout",
     "output_type": "stream",
     "text": [
      "Python\n"
     ]
    }
   ],
   "source": [
    "#Extract all alphabets from a string.\n",
    "\n",
    "a = \"Python123\"\n",
    "b = \"\"\n",
    "for i in a:\n",
    "    if i.isalpha():\n",
    "        b +=i\n",
    "print(b)\n"
   ]
  },
  {
   "cell_type": "code",
   "execution_count": 94,
   "id": "47d33a6c-bf24-4448-9e52-393c2ae82346",
   "metadata": {},
   "outputs": [
    {
     "name": "stdout",
     "output_type": "stream",
     "text": [
      "4\n"
     ]
    }
   ],
   "source": [
    "#26. Count the number of uppercase letters in a string.\n",
    "\n",
    "a = \"PytHLKon123\"\n",
    "b = 0\n",
    "for i in a:\n",
    "    if i.isupper():\n",
    "        b = b+1\n",
    "print(b)"
   ]
  },
  {
   "cell_type": "code",
   "execution_count": 95,
   "id": "9043c5ec-6e1b-4615-b108-055a78b99e9d",
   "metadata": {},
   "outputs": [
    {
     "name": "stdout",
     "output_type": "stream",
     "text": [
      "4\n"
     ]
    }
   ],
   "source": [
    "#27. Count the number of lowercase letters in a string.\n",
    "a = \"PytHLKon123\"\n",
    "b = 0\n",
    "for i in a:\n",
    "    if i.islower():\n",
    "        b = b+1\n",
    "print(b)\n"
   ]
  },
  {
   "cell_type": "code",
   "execution_count": 96,
   "id": "224f958b-08a2-4afa-a8da-29353891ef12",
   "metadata": {},
   "outputs": [
    {
     "name": "stdout",
     "output_type": "stream",
     "text": [
      "pYThlkON\n"
     ]
    }
   ],
   "source": [
    "#28. Swap the case of each character in a string.\n",
    "a = \"PytHLKon\"\n",
    "b = a.swapcase()\n",
    "print(b)\n"
   ]
  },
  {
   "cell_type": "code",
   "execution_count": 98,
   "id": "d47cf17c-557d-4c99-b4af-1eede7163c06",
   "metadata": {},
   "outputs": [
    {
     "name": "stdout",
     "output_type": "stream",
     "text": [
      "ython\n"
     ]
    }
   ],
   "source": [
    "#29. Remove a specific word from a string.\n",
    "\n",
    "a = \"Python\"\n",
    "b = a.replace(\"P\",\"\")\n",
    "print(b)"
   ]
  },
  {
   "cell_type": "code",
   "execution_count": 114,
   "id": "662d24a2-c311-4d71-addc-8403ce924f63",
   "metadata": {},
   "outputs": [
    {
     "name": "stdout",
     "output_type": "stream",
     "text": [
      "True\n"
     ]
    }
   ],
   "source": [
    "#30. Check if a string is a valid email address.\n",
    "from email.utils import parseaddr\n",
    "\n",
    "def is_valid_email_strict(email):\n",
    "    return '@' in parseaddr(email)[1]\n",
    "\n",
    "print(is_valid_email_strict(\"test@example.com\"))"
   ]
  },
  {
   "cell_type": "code",
   "execution_count": 115,
   "id": "e8fc86c0-e4e0-4b10-8fba-b8b324be1ca0",
   "metadata": {},
   "outputs": [
    {
     "name": "stdout",
     "output_type": "stream",
     "text": [
      "dddekd334\n"
     ]
    }
   ],
   "source": [
    "# 31. Extract the username from an email address string.\n",
    "\n",
    "a = \"dddekd334@gmail.com\"\n",
    "b = a.split(\"@\")[0]\n",
    "print(b)"
   ]
  },
  {
   "cell_type": "code",
   "execution_count": 116,
   "id": "c98c930d-76b6-44f8-adbc-80ed32d8e850",
   "metadata": {},
   "outputs": [
    {
     "name": "stdout",
     "output_type": "stream",
     "text": [
      "gmail.com\n"
     ]
    }
   ],
   "source": [
    "#32. Extract the domain name from an email address string.\n",
    "a = \"dddekd334@gmail.com\"\n",
    "b = a.split(\"@\")[1]\n",
    "print(b)\n"
   ]
  },
  {
   "cell_type": "code",
   "execution_count": 117,
   "id": "0037ab75-0687-41cb-8a5d-fc2ff5df206b",
   "metadata": {},
   "outputs": [
    {
     "name": "stdout",
     "output_type": "stream",
     "text": [
      "ready to outside\n"
     ]
    }
   ],
   "source": [
    "#33. Replace multiple spaces in a string with a single space.\n",
    "\n",
    "a = \" ready    to     outside\"\n",
    "b = \" \".join(a.split())\n",
    "print(b)"
   ]
  },
  {
   "cell_type": "code",
   "execution_count": 118,
   "id": "1eafc2c6-206a-4523-9f35-e67388e739a1",
   "metadata": {},
   "outputs": [
    {
     "name": "stdout",
     "output_type": "stream",
     "text": [
      "Valid URL\n"
     ]
    }
   ],
   "source": [
    "#34. Check if a string is a valid URL.\n",
    "\n",
    "from urllib.parse import urlparse\n",
    "\n",
    "url = \"https://www.example.com\"\n",
    "parsed_url = urlparse(url)\n",
    "if all([parsed_url.scheme, parsed_url.netloc]):\n",
    "    print(\"Valid URL\")\n",
    "else:\n",
    "    print(\"Invalid URL\")"
   ]
  },
  {
   "cell_type": "code",
   "execution_count": 122,
   "id": "d4d4c0ab-3c03-4902-befd-9ec6ffe2a2d5",
   "metadata": {},
   "outputs": [
    {
     "name": "stdout",
     "output_type": "stream",
     "text": [
      "https\n"
     ]
    }
   ],
   "source": [
    "#35. Extract the protocol (http or https) from a URL string.\n",
    "url = \"https://www.example.com/path/to/resource\"\n",
    "\n",
    "b = url.split(\":\")[0]\n",
    "print(b)\n"
   ]
  },
  {
   "cell_type": "code",
   "execution_count": 123,
   "id": "44dc46ef-f3c7-4e81-a09e-ea59e2932f7f",
   "metadata": {
    "scrolled": true
   },
   "outputs": [
    {
     "name": "stdout",
     "output_type": "stream",
     "text": [
      "{'h': 1, 'e': 1, 'l': 3, 'o': 2, ' ': 1, 'w': 1, 'r': 1, 'd': 1}\n"
     ]
    }
   ],
   "source": [
    "#36. Find the frequency of each character in a string.\n",
    "\n",
    "text = \"hello world\"\n",
    "frequency = {}\n",
    "\n",
    "for char in text:\n",
    "    frequency[char] = frequency.get(char, 0) + 1\n",
    "\n",
    "print(frequency)"
   ]
  },
  {
   "cell_type": "code",
   "execution_count": 132,
   "id": "927663e3-7af1-4de2-9269-929c67d3b9c9",
   "metadata": {},
   "outputs": [
    {
     "name": "stdout",
     "output_type": "stream",
     "text": [
      "Hello world Lets remove all punctuation\n"
     ]
    }
   ],
   "source": [
    "#37. Remove all punctuation from a string.\n",
    "\n",
    "import string\n",
    "\n",
    "def remove_punctuation(text):\n",
    "    return ''.join(char for char in text if char not in string.punctuation)\n",
    "\n",
    "# Test\n",
    "text = \"Hello, world! Let's remove: all punctuation.\"\n",
    "print(remove_punctuation(text))\n",
    "\n"
   ]
  },
  {
   "cell_type": "code",
   "execution_count": 136,
   "id": "1f0f6188-2473-4786-8962-56dde870be45",
   "metadata": {},
   "outputs": [
    {
     "name": "stdout",
     "output_type": "stream",
     "text": [
      "False\n"
     ]
    }
   ],
   "source": [
    "#38. Check if a string contains only digits.\n",
    "\n",
    "a = \"Pyhton\"\n",
    "b = a.isdigit()\n",
    "print(b)"
   ]
  },
  {
   "cell_type": "code",
   "execution_count": 137,
   "id": "6baba658-a504-4388-9408-dd1e3f7c28d7",
   "metadata": {},
   "outputs": [
    {
     "name": "stdout",
     "output_type": "stream",
     "text": [
      "True\n"
     ]
    }
   ],
   "source": [
    "#39. Check if a string contains only alphabets.\n",
    "\n",
    "a = \"Pyhton\"\n",
    "b = a.isalpha()\n",
    "print(b)"
   ]
  },
  {
   "cell_type": "code",
   "execution_count": 140,
   "id": "569b751b-de78-4436-a3b6-c0e736a601bc",
   "metadata": {},
   "outputs": [
    {
     "name": "stdout",
     "output_type": "stream",
     "text": [
      "['P', 'y', 't', 'h', 'o', 'n', ' ', 'i', 's', ' ', 'b', 'e', 's', 't']\n"
     ]
    }
   ],
   "source": [
    "#40. Convert a string to a list of characters.\n",
    "s = \"Python is best\"\n",
    "a = list(s)\n",
    "print(a)"
   ]
  },
  {
   "cell_type": "code",
   "execution_count": 142,
   "id": "8989ed7b-673a-44fd-a390-58fd8c75218a",
   "metadata": {},
   "outputs": [
    {
     "name": "stdout",
     "output_type": "stream",
     "text": [
      "True\n",
      "False\n"
     ]
    }
   ],
   "source": [
    "#41. Check if two strings are anagrams.\n",
    "def are_anagrams(str1, str2):\n",
    "    return sorted(str1) == sorted(str2)\n",
    "\n",
    "# Test\n",
    "print(are_anagrams(\"listen\", \"silent\")) \n",
    "print(are_anagrams(\"hello\", \"world\"))\n"
   ]
  },
  {
   "cell_type": "code",
   "execution_count": 24,
   "id": "fd9696a9-a2b5-4da9-8744-00f8a23e9610",
   "metadata": {},
   "outputs": [
    {
     "name": "stdout",
     "output_type": "stream",
     "text": [
      "Dwwdfn dw Gdzq!\n"
     ]
    }
   ],
   "source": [
    "#42. Encode a string using a Caesar cipher.\n",
    "def caesar_cipher(text, shift):\n",
    "    result = \"\"\n",
    "\n",
    "    for char in text:\n",
    "        if char.isalpha():\n",
    "            # Determine the ASCII offset for case\n",
    "            offset = 65 if char.isupper() else 97\n",
    "            # Shift the character and wrap around the alphabet\n",
    "            shifted_char = chr((ord(char) - offset + shift) % 26 + offset)\n",
    "            result += shifted_char\n",
    "        else:\n",
    "            result += char  # Leave non-letter characters unchanged\n",
    "\n",
    "    return result\n",
    "\n",
    "message = \"Attack at Dawn!\"\n",
    "encoded = caesar_cipher(message, 3)\n",
    "print(encoded) \n"
   ]
  },
  {
   "cell_type": "code",
   "execution_count": 26,
   "id": "fcfc45e8-3a58-471f-86d4-598f1ed852b2",
   "metadata": {},
   "outputs": [
    {
     "name": "stdout",
     "output_type": "stream",
     "text": [
      "Attack at Dawn!\n"
     ]
    }
   ],
   "source": [
    "#43. Decode a Caesar cipher encoded string.\n",
    "def caesar_cipher(text, shift):\n",
    "    result = \"\"\n",
    "\n",
    "    for char in text:\n",
    "        if char.isalpha():\n",
    "            # Determine the ASCII offset for case\n",
    "            offset = 65 if char.isupper() else 97\n",
    "            # Shift the character and wrap around the alphabet\n",
    "            shifted_char = chr((ord(char) - offset - shift) % 26 + offset)\n",
    "            result += shifted_char\n",
    "        else:\n",
    "            result += char  # Leave non-letter characters unchanged\n",
    "\n",
    "    return result\n",
    "\n",
    "message = \"Dwwdfn dw Gdzq!\"\n",
    "encoded = caesar_cipher(message, 3)\n",
    "print(encoded) \n"
   ]
  },
  {
   "cell_type": "code",
   "execution_count": 28,
   "id": "7b88ff6e-fdb9-4fa7-87d2-b44d88354f20",
   "metadata": {},
   "outputs": [
    {
     "name": "stdout",
     "output_type": "stream",
     "text": [
      "('ready', 4)\n"
     ]
    }
   ],
   "source": [
    "#44. Find the most frequent word in a string.\n",
    "from collections import Counter\n",
    "\n",
    "def most_frequent_word(text):\n",
    "    # Convert to lowercase and split into words\n",
    "    words = text.lower().split()\n",
    "    # Count how often each word appears\n",
    "    word_counts = Counter(words)\n",
    "    # Get the most common word and its count\n",
    "    most_common = word_counts.most_common(1)\n",
    "    return most_common[0] if most_common else (None, 0)\n",
    "\n",
    "# Test\n",
    "text = \"ready go ready to ready ready and go\"\n",
    "print(most_frequent_word(text))  # Output: ('apple', 3)\n"
   ]
  },
  {
   "cell_type": "code",
   "execution_count": 31,
   "id": "a8cf7014-a555-4469-bb94-eb1f81092391",
   "metadata": {},
   "outputs": [
    {
     "name": "stdout",
     "output_type": "stream",
     "text": [
      "{'go', 'ready', 'to', 'school'}\n"
     ]
    }
   ],
   "source": [
    "#45. Find all unique words in a string.\n",
    "a = \"ready ready to to to to go to school\"\n",
    "b = set(a.lower().split())\n",
    "print(b)"
   ]
  },
  {
   "cell_type": "code",
   "execution_count": 52,
   "id": "5a219af4-88a8-4506-bae5-b086c609c3fe",
   "metadata": {},
   "outputs": [
    {
     "name": "stdout",
     "output_type": "stream",
     "text": [
      "ready to school hurry and come back soon it's very important\n"
     ]
    }
   ],
   "source": [
    "#48. Remove the nth word from a string.\n",
    "\n",
    "def remove_nth_word(text, n):\n",
    "    words = text.split()\n",
    "    if 1 <= n <= len(words):\n",
    "        del words[n-1]  # n-1 because list indices start at 0\n",
    "    return ' '.join(words)\n",
    "\n",
    "\n",
    "text = \"ready to go school hurry and come back soon it's very important\"\n",
    "print(remove_nth_word(text, 3))\n",
    "\n"
   ]
  },
  {
   "cell_type": "code",
   "execution_count": 55,
   "id": "fba8323a-72ff-4ca0-9778-81a66e692760",
   "metadata": {},
   "outputs": [
    {
     "name": "stdout",
     "output_type": "stream",
     "text": [
      "The quick smart brown fox\n"
     ]
    }
   ],
   "source": [
    "#49. Insert a word at the nth position in a string.\n",
    "\n",
    "def insert_word(text, word, n):\n",
    "    words = text.split()\n",
    "    # Adjust n to be within bounds\n",
    "    if n < 1:\n",
    "        n = 1\n",
    "    elif n > len(words) + 1:\n",
    "        n = len(words) + 1\n",
    "    \n",
    "    words.insert(n - 1, word)  # n-1 because list indices start at 0\n",
    "    return ' '.join(words)\n",
    "\n",
    "# Test\n",
    "text = \"The quick brown fox\"\n",
    "new_text = insert_word(text, \"smart\", 3)\n",
    "print(new_text)\n"
   ]
  },
  {
   "cell_type": "code",
   "execution_count": null,
   "id": "df6fde55-1e2d-48ff-83c9-3a7c922f0830",
   "metadata": {},
   "outputs": [],
   "source": [
    "# List Based Practice Problem :\n",
    "\n"
   ]
  },
  {
   "cell_type": "code",
   "execution_count": 59,
   "id": "22599c16-c7a8-4b7c-a372-adb7880f35df",
   "metadata": {},
   "outputs": [
    {
     "name": "stdout",
     "output_type": "stream",
     "text": [
      "[1, 2, 3, 4, 5, 6, 7, 8, 9, 10]\n",
      "[1, 2, 3, 4, 5, 6, 7, 8, 9, 10]\n"
     ]
    }
   ],
   "source": [
    "#1. Create a list with integers from 1 to 10.\n",
    "\n",
    "a = [i for i in range (1,11)]\n",
    "print(a)\n",
    "\n",
    "b = list(range(1,11))\n",
    "print(b)"
   ]
  },
  {
   "cell_type": "code",
   "execution_count": 64,
   "id": "f495e1f8-2e16-4628-9540-a0cd3b1aad5b",
   "metadata": {},
   "outputs": [
    {
     "name": "stdout",
     "output_type": "stream",
     "text": [
      "11\n"
     ]
    }
   ],
   "source": [
    "#2. Find the length of a list without using the `len()` function.\n",
    "\n",
    "a = [5,33,323,5,3,5,3,5,5,555,34242]\n",
    "b = 0\n",
    "for i in a:\n",
    "    b = b+1\n",
    "print(b)"
   ]
  },
  {
   "cell_type": "code",
   "execution_count": 85,
   "id": "2cf87863-0a68-449d-943b-6cc0c0861e5d",
   "metadata": {},
   "outputs": [
    {
     "name": "stdout",
     "output_type": "stream",
     "text": [
      "[5, 33, 323, 5, 3, 5, 3, 5, 5, 555, 34242, 45]\n"
     ]
    }
   ],
   "source": [
    "# 3. Append an element to the end of a list.\n",
    "\n",
    "a = [5,33,323,5,3,5,3,5,5,555,34242]\n",
    "b = a.append(45)\n",
    "print(a)"
   ]
  },
  {
   "cell_type": "code",
   "execution_count": 90,
   "id": "130f6fb8-558c-4924-a1c3-268892d2bc96",
   "metadata": {},
   "outputs": [
    {
     "name": "stdout",
     "output_type": "stream",
     "text": [
      "[5, 34, 33, 323, 5, 3, 5, 3, 5, 5, 555, 34242]\n"
     ]
    }
   ],
   "source": [
    "#4. Insert an element at a specific index in a list.\n",
    "a = [5,33,323,5,3,5,3,5,5,555,34242]\n",
    "a.insert(1,34)\n",
    "print(a)"
   ]
  },
  {
   "cell_type": "code",
   "execution_count": 91,
   "id": "f236aeb1-fea2-4da1-bc5d-a6e7b9381cc1",
   "metadata": {},
   "outputs": [
    {
     "name": "stdout",
     "output_type": "stream",
     "text": [
      "[5, 323, 5, 3, 5, 3, 5, 5, 555, 34242]\n"
     ]
    }
   ],
   "source": [
    "#5. Remove an element from a list by its value.\n",
    "\n",
    "a = [5,33,323,5,3,5,3,5,5,555,34242]\n",
    "a.remove(33)\n",
    "print(a)"
   ]
  },
  {
   "cell_type": "code",
   "execution_count": 92,
   "id": "34def2cf-a3cb-476c-892f-14d4369272d3",
   "metadata": {},
   "outputs": [
    {
     "name": "stdout",
     "output_type": "stream",
     "text": [
      "[5, 33, 5, 3, 5, 3, 5, 5, 555, 34242]\n"
     ]
    }
   ],
   "source": [
    "#6. Remove an element from a list by its index.\n",
    "\n",
    "a = [5,33,323,5,3,5,3,5,5,555,34242]\n",
    "del a[2]\n",
    "print(a)\n"
   ]
  },
  {
   "cell_type": "code",
   "execution_count": 96,
   "id": "379079d6-3669-43bc-8dcf-dfe395bb001b",
   "metadata": {},
   "outputs": [
    {
     "name": "stdout",
     "output_type": "stream",
     "text": [
      "Yes it's is exists\n"
     ]
    }
   ],
   "source": [
    "#7. Check if an element exists in a list\n",
    "my_list = [10, 20, 30, 40]\n",
    "\n",
    "if 10 in my_list:\n",
    "    print(\"Yes it's is exists\")\n",
    "else:\n",
    "    print(\"no\")\n",
    "    "
   ]
  },
  {
   "cell_type": "code",
   "execution_count": 97,
   "id": "a72f3df6-1a2f-4a9e-8d42-113c7a562072",
   "metadata": {},
   "outputs": [
    {
     "name": "stdout",
     "output_type": "stream",
     "text": [
      "2\n"
     ]
    }
   ],
   "source": [
    "#8. Find the index of the first occurrence of an element in a list.\n",
    "\n",
    "a = [1,2,3,3,4,4,5,55,5]\n",
    "b = a.index(3)\n",
    "print(b)\n"
   ]
  },
  {
   "cell_type": "code",
   "execution_count": 101,
   "id": "185babc2-b283-4cfe-b66b-0a71e3755b47",
   "metadata": {},
   "outputs": [
    {
     "name": "stdout",
     "output_type": "stream",
     "text": [
      "2\n"
     ]
    }
   ],
   "source": [
    "#9. Count the occurrences of an element in a list.\n",
    "a = [1,2,3,3,4,4,5,55,5]\n",
    "b = a.count(3)\n",
    "print(b)\n"
   ]
  },
  {
   "cell_type": "code",
   "execution_count": 105,
   "id": "ab735b85-4596-4da3-8244-9708944b3d84",
   "metadata": {},
   "outputs": [
    {
     "name": "stdout",
     "output_type": "stream",
     "text": [
      "[5, 55, 5, 4, 4, 3, 3, 2, 1]\n"
     ]
    }
   ],
   "source": [
    "#10. Reverse the order of elements in a list.\n",
    "\n",
    "a = [1,2,3,3,4,4,5,55,5]\n",
    "a[::-1]\n",
    "a.reverse()\n",
    "print(a)\n"
   ]
  },
  {
   "cell_type": "code",
   "execution_count": 108,
   "id": "21cbde30-44f9-4df4-9a89-d991c7d451bd",
   "metadata": {},
   "outputs": [
    {
     "name": "stdout",
     "output_type": "stream",
     "text": [
      "[1, 2, 3, 3, 4, 4, 5, 5, 55]\n"
     ]
    }
   ],
   "source": [
    "#11. Sort a list in ascending order.\n",
    "\n",
    "a = [1,2,3,3,4,4,5,55,5]\n",
    "a.sort()\n",
    "print(a)"
   ]
  },
  {
   "cell_type": "code",
   "execution_count": 117,
   "id": "64f89d87-3cdc-46d3-9ac0-61af5558b7b5",
   "metadata": {},
   "outputs": [
    {
     "name": "stdout",
     "output_type": "stream",
     "text": [
      "[55, 5, 5, 4, 4, 3, 3, 2, 1]\n"
     ]
    },
    {
     "data": {
      "text/plain": [
       "[55, 5, 5, 4, 4, 3, 3, 2, 1]"
      ]
     },
     "execution_count": 117,
     "metadata": {},
     "output_type": "execute_result"
    }
   ],
   "source": [
    "#12. Sort a list in descending order.\n",
    "a = [1,2,3,3,4,4,5,55,5]\n",
    "a.sort(reverse=True)\n",
    "print(a)\n",
    "sorted(a,reverse=True)\n"
   ]
  },
  {
   "cell_type": "code",
   "execution_count": 121,
   "id": "c8247fbd-f3f8-4b47-9ac8-cdc40829796a",
   "metadata": {},
   "outputs": [
    {
     "name": "stdout",
     "output_type": "stream",
     "text": [
      "[2, 4, 6, 8, 10, 12, 14, 16, 18, 20]\n",
      "[2, 4, 6, 8, 10, 12, 14, 16, 18, 20]\n"
     ]
    }
   ],
   "source": [
    "#13. Create a list of even numbers from 1 to 20.\n",
    "a = []\n",
    "for i in range(1,21):\n",
    "    if i %2 == 0:\n",
    "        a.append(i)\n",
    "print(a)\n",
    "\n",
    "b = list(range(2,21,2))\n",
    "print(b)\n"
   ]
  },
  {
   "cell_type": "code",
   "execution_count": 125,
   "id": "7052aa36-cf00-4816-9daf-5e84132a23f7",
   "metadata": {},
   "outputs": [
    {
     "name": "stdout",
     "output_type": "stream",
     "text": [
      "[1, 3, 5, 7, 9, 11, 13, 15, 17, 19]\n"
     ]
    }
   ],
   "source": [
    "#14. Create a list of odd numbers from 1 to 20.\n",
    "b = list(range(1,21,2))\n",
    "print(b)"
   ]
  },
  {
   "cell_type": "code",
   "execution_count": 132,
   "id": "1144f8db-10f2-4fa1-a858-7e5790fa544c",
   "metadata": {},
   "outputs": [
    {
     "name": "stdout",
     "output_type": "stream",
     "text": [
      "6\n",
      "6\n"
     ]
    }
   ],
   "source": [
    "#15. Find the sum of all elements in a list.\n",
    "\n",
    "a = [1,2,3]\n",
    "b = 0\n",
    "for i in a:\n",
    "    b =b+i\n",
    "print(b)\n",
    "\n",
    "\n",
    "c = sum(a)\n",
    "print(c)"
   ]
  },
  {
   "cell_type": "code",
   "execution_count": 137,
   "id": "b3a7631f-144c-4528-a1d0-b4472d08a6fa",
   "metadata": {},
   "outputs": [
    {
     "name": "stdout",
     "output_type": "stream",
     "text": [
      "19\n",
      "19\n"
     ]
    }
   ],
   "source": [
    "#16. Find the maximum value in a list.\n",
    "\n",
    "a = [1, 3, 5, 7, 9, 11, 13, 15, 17, 19]\n",
    "b = max(a)\n",
    "print(b)\n",
    "\n",
    "\n",
    "\n",
    "maxvalue = a[0]\n",
    "for i in a:\n",
    "    if i > maxvalue:\n",
    "        maxvalue = i\n",
    "print(maxvalue)"
   ]
  },
  {
   "cell_type": "code",
   "execution_count": 140,
   "id": "835743cd-7d83-410a-bb2a-53f6e45fbccb",
   "metadata": {},
   "outputs": [
    {
     "name": "stdout",
     "output_type": "stream",
     "text": [
      "7\n"
     ]
    }
   ],
   "source": [
    "#17. Find the minimum value in a list.\n",
    "\n",
    "a = [7, 9, 11, 13, 15, 17, 19]\n",
    "\n",
    "b = min(a)\n",
    "print(b)"
   ]
  },
  {
   "cell_type": "code",
   "execution_count": 143,
   "id": "03cd0ac8-61ec-4bfb-b26d-40a817265303",
   "metadata": {},
   "outputs": [
    {
     "name": "stdout",
     "output_type": "stream",
     "text": [
      "[1, 4, 9, 16, 25, 36, 49, 64, 81, 100]\n",
      "[1, 4, 9, 16, 25, 36, 49, 64, 81, 100]\n"
     ]
    }
   ],
   "source": [
    "#18. Create a list of squares of numbers from 1 to 10.\n",
    "a = []\n",
    "for i in range(1,11):\n",
    "    a.append(i**2)\n",
    "\n",
    "print(a)\n",
    "\n",
    "b = print([i**2 for i in range(1,11)])\n",
    "\n"
   ]
  },
  {
   "cell_type": "code",
   "execution_count": 164,
   "id": "12700fdd-0248-4b62-9e88-c4e680b3b092",
   "metadata": {},
   "outputs": [
    {
     "name": "stdout",
     "output_type": "stream",
     "text": [
      "[19, 38, 85, 78, 52]\n"
     ]
    }
   ],
   "source": [
    "#19. Create a list of random numbers.\n",
    "import random\n",
    "\n",
    "random_numbers = [random.randint(1, 100) for _ in range(5)]\n",
    "print(random_numbers)"
   ]
  },
  {
   "cell_type": "code",
   "execution_count": 169,
   "id": "53d810a6-81f2-479d-a8e8-2e5d5ef41eed",
   "metadata": {},
   "outputs": [
    {
     "name": "stdout",
     "output_type": "stream",
     "text": [
      "[64, 1, 35, 4, 36, 100, 8, 9, 16, 49, 81, 25]\n",
      "[1, 2, 3, 4, 5]\n"
     ]
    }
   ],
   "source": [
    "#20. Remove duplicates from a list.\n",
    "a = [1, 4, 9, 16, 25, 36, 49, 64, 81,4,4,8,9,9,9,9,9,9,35,25, 100]\n",
    "b = list(set(a))\n",
    "print(b )\n",
    "\n",
    "\n",
    "my_list = [1, 2, 2, 3, 4, 4, 5]\n",
    "unique_list = []\n",
    "seen = set()\n",
    "\n",
    "for item in my_list:\n",
    "    if item not in seen:\n",
    "        unique_list.append(item)\n",
    "        seen.add(item)\n",
    "\n",
    "print(unique_list)"
   ]
  },
  {
   "cell_type": "code",
   "execution_count": 170,
   "id": "9c7ced57-052a-4428-8cb8-68277ec0cb0d",
   "metadata": {},
   "outputs": [
    {
     "name": "stdout",
     "output_type": "stream",
     "text": [
      "[4]\n"
     ]
    }
   ],
   "source": [
    "#21. Find the common elements between two lists.\n",
    "\n",
    "a = [1, 2, 2, 3, 4, 4, 5]\n",
    "b = [ 4,45,6,7,8]\n",
    "c = list(set(a) & set(b))\n",
    "print(c)\n"
   ]
  },
  {
   "cell_type": "code",
   "execution_count": 173,
   "id": "ffc8bb80-e1cb-41ad-9631-fd6e4ea0d813",
   "metadata": {},
   "outputs": [
    {
     "name": "stdout",
     "output_type": "stream",
     "text": [
      "Elements in list1 but not in list2: [1, 2, 3]\n",
      "Elements in list2 but not in list1: [8, 6, 7]\n"
     ]
    }
   ],
   "source": [
    "#22. Find the difference between two lists.\n",
    "list1 = [1, 2, 3, 4, 5]\n",
    "list2 = [4, 5, 6, 7, 8]\n",
    "\n",
    "# Elements in list1 but not in list2\n",
    "diff1 = list(set(list1) - set(list2))\n",
    "\n",
    "# Elements in list2 but not in list1\n",
    "diff2 = list(set(list2) - set(list1))\n",
    "\n",
    "print(\"Elements in list1 but not in list2:\", diff1)\n",
    "print(\"Elements in list2 but not in list1:\", diff2)\n",
    "\n"
   ]
  },
  {
   "cell_type": "code",
   "execution_count": 176,
   "id": "067f9a2e-a183-4ba2-bb09-1c21e3683f44",
   "metadata": {},
   "outputs": [
    {
     "name": "stdout",
     "output_type": "stream",
     "text": [
      "[1, 2, 3, 4, 5, 4, 5, 6, 7, 8]\n",
      "[1, 2, 3, 4, 5, 4, 5, 6, 7, 8]\n"
     ]
    }
   ],
   "source": [
    "#23. Merge two lists.\n",
    "list1 = [1, 2, 3, 4, 5]\n",
    "list2 = [4, 5, 6, 7, 8]\n",
    "\n",
    "c = print(list1 + list2)\n",
    "\n",
    "list1.extend(list2)\n",
    "print(list1)"
   ]
  },
  {
   "cell_type": "code",
   "execution_count": 177,
   "id": "8cb5620b-0c6d-40e0-b9b2-a469e6b1d02e",
   "metadata": {},
   "outputs": [
    {
     "name": "stdout",
     "output_type": "stream",
     "text": [
      "[2, 4, 6, 8, 10]\n"
     ]
    }
   ],
   "source": [
    "#24. Multiply all elements in a list by 2.\n",
    "\n",
    "list1 = [1, 2, 3, 4, 5]\n",
    "c = print([i*2 for i in list1])"
   ]
  },
  {
   "cell_type": "code",
   "execution_count": 178,
   "id": "61a9ed9c-283a-4288-9b14-982cd03770f8",
   "metadata": {},
   "outputs": [
    {
     "name": "stdout",
     "output_type": "stream",
     "text": [
      "[5, 7]\n"
     ]
    }
   ],
   "source": [
    "#25. Filter out all even numbers from a list.\n",
    "list2 = [4, 5, 6, 7, 8]\n",
    "\n",
    "for i in list2:\n",
    "    if i%2 == 0:\n",
    "        list2.remove(i)\n",
    "print(list2)\n"
   ]
  },
  {
   "cell_type": "code",
   "execution_count": 186,
   "id": "8e069b38-97c2-4dcf-b803-5dd80aa22bf3",
   "metadata": {},
   "outputs": [
    {
     "name": "stdout",
     "output_type": "stream",
     "text": [
      "[1, 2, 3, 4, 5]\n",
      "Converted list: [1, 2, 3, 4, 5]\n"
     ]
    }
   ],
   "source": [
    "# 26. Convert a list of strings to a list of integers.\n",
    "str_list = ['1', '2', '3', '4', '5']\n",
    "int_list =print( [int(s) for s in str_list])\n",
    "\n",
    "int_list = list(map(int, str_list))\n",
    "print(\"Converted list:\", int_list)\n",
    "\n"
   ]
  },
  {
   "cell_type": "code",
   "execution_count": 187,
   "id": "54770a8f-b60a-422c-b93c-e91f05bb4aa4",
   "metadata": {},
   "outputs": [
    {
     "name": "stdout",
     "output_type": "stream",
     "text": [
      "['1', '2', '3', '4', '5']\n"
     ]
    }
   ],
   "source": [
    "#27. Convert a list of integers to a list of strings.\n",
    "str_list = ['1', '2', '3', '4', '5']\n",
    "int_list =print( [str(s) for s in str_list])"
   ]
  },
  {
   "cell_type": "code",
   "execution_count": 189,
   "id": "e1a26d89-fc08-4356-b7de-11d6ab69e448",
   "metadata": {},
   "outputs": [
    {
     "name": "stdout",
     "output_type": "stream",
     "text": [
      "Flattened list: [1, 2, 3, 4, 5]\n",
      "Deep Flattened: [1, 2, 3, 4, 5, 6]\n"
     ]
    }
   ],
   "source": [
    "#28. Flatten a nested list.\n",
    "nested_list = [[1, 2], [3, 4], [5]]\n",
    "flat_list = [item for sublist in nested_list for item in sublist]\n",
    "print(\"Flattened list:\", flat_list)\n",
    "\n",
    "\n",
    "def flatten(lst):\n",
    "    result = []\n",
    "    for item in lst:\n",
    "        if isinstance(item, list):\n",
    "            result.extend(flatten(item))\n",
    "        else:\n",
    "            result.append(item)\n",
    "    return result\n",
    "\n",
    "nested_list = [1, [2, [3, 4], 5], 6]\n",
    "print(\"Deep Flattened:\", flatten(nested_list))"
   ]
  },
  {
   "cell_type": "code",
   "execution_count": 190,
   "id": "ef3b5092-7da2-4306-9d58-af180e8b137b",
   "metadata": {},
   "outputs": [
    {
     "name": "stdout",
     "output_type": "stream",
     "text": [
      "First 10 Fibonacci numbers: [0, 1, 1, 2, 3, 5, 8, 13, 21, 34]\n"
     ]
    }
   ],
   "source": [
    "#29. Create a list of the first 10 Fibonacci numbers.\n",
    "\n",
    "fibonacci = [0, 1]\n",
    "\n",
    "while len(fibonacci) < 10:\n",
    "    fibonacci.append(fibonacci[-1] + fibonacci[-2])\n",
    "\n",
    "print(\"First 10 Fibonacci numbers:\", fibonacci)"
   ]
  },
  {
   "cell_type": "code",
   "execution_count": 191,
   "id": "80851ecb-4b84-4f5a-a2ba-60937f4e409f",
   "metadata": {},
   "outputs": [
    {
     "name": "stdout",
     "output_type": "stream",
     "text": [
      "The list is sorted.\n"
     ]
    }
   ],
   "source": [
    "#30. Check if a list is sorted.\n",
    "numbers = [1, 2, 3, 4, 5]\n",
    "\n",
    "# Check if the list is sorted\n",
    "if numbers == sorted(numbers):\n",
    "    print(\"The list is sorted.\")\n",
    "else:\n",
    "    print(\"The list is not sorted.\")"
   ]
  },
  {
   "cell_type": "code",
   "execution_count": null,
   "id": "98c24565-fd01-49a0-a0de-6a787084d9c5",
   "metadata": {},
   "outputs": [],
   "source": [
    "#Tuple Based Practice Problem :\n"
   ]
  },
  {
   "cell_type": "code",
   "execution_count": 194,
   "id": "91cc7d69-23f0-4bd8-8874-0d84d00b6759",
   "metadata": {},
   "outputs": [
    {
     "name": "stdout",
     "output_type": "stream",
     "text": [
      "(1, 2, 3, 4, 5)\n"
     ]
    }
   ],
   "source": [
    "#1. Create a tuple with integers from 1 to 5.\n",
    "a = tuple(range(1,6))\n",
    "print(a)"
   ]
  },
  {
   "cell_type": "code",
   "execution_count": 198,
   "id": "77699f04-44fa-4477-97f3-d49289342a8d",
   "metadata": {},
   "outputs": [
    {
     "name": "stdout",
     "output_type": "stream",
     "text": [
      "3\n"
     ]
    }
   ],
   "source": [
    "#2. Access the third element of a tuple.\n",
    "\n",
    "a = (1, 2, 3, 4, 5)\n",
    "b = print(a[2])"
   ]
  },
  {
   "cell_type": "code",
   "execution_count": 202,
   "id": "52f43681-cb7d-4d4c-a3f2-d6296b68a6d3",
   "metadata": {},
   "outputs": [
    {
     "name": "stdout",
     "output_type": "stream",
     "text": [
      "5\n"
     ]
    }
   ],
   "source": [
    "#3. Find the length of a tuple without using the `len()` function.\n",
    "a = (1, 2, 3, 4, 5)\n",
    "b = 0\n",
    "for i in a:\n",
    "    b = b+1\n",
    "\n",
    "print(b)"
   ]
  },
  {
   "cell_type": "code",
   "execution_count": 203,
   "id": "73fd87fc-4a42-49f1-a50c-88916114fa43",
   "metadata": {},
   "outputs": [
    {
     "name": "stdout",
     "output_type": "stream",
     "text": [
      "The element 2 occurs 3 times in the tuple.\n"
     ]
    }
   ],
   "source": [
    "#4. Count the occurrences of an element in a tuple.\n",
    "\n",
    "my_tuple = (1, 2, 3, 2, 4, 2, 5)\n",
    "\n",
    "# Element to count\n",
    "element = 2\n",
    "\n",
    "# Count occurrences\n",
    "count = my_tuple.count(element)\n",
    "\n",
    "# Print result\n",
    "print(f\"The element {element} occurs {count} times in the tuple.\")"
   ]
  },
  {
   "cell_type": "code",
   "execution_count": 204,
   "id": "4434563c-a148-42dc-a93c-3dca6a4eba5f",
   "metadata": {},
   "outputs": [
    {
     "name": "stdout",
     "output_type": "stream",
     "text": [
      "The first occurrence of 20 is at index 1.\n"
     ]
    }
   ],
   "source": [
    "#5. Find the index of the first occurrence of an element in a tuple.\n",
    "\n",
    "my_tuple = (10, 20, 30, 20, 40)\n",
    "\n",
    "# Element to find\n",
    "element = 20\n",
    "\n",
    "# Get the index of the first occurrence\n",
    "index = my_tuple.index(element)\n",
    "\n",
    "# Print the result\n",
    "print(f\"The first occurrence of {element} is at index {index}.\")"
   ]
  },
  {
   "cell_type": "code",
   "execution_count": 206,
   "id": "60301f7a-f3ce-4132-ad8d-6cb94608d5b7",
   "metadata": {},
   "outputs": [
    {
     "name": "stdout",
     "output_type": "stream",
     "text": [
      "no\n"
     ]
    }
   ],
   "source": [
    "#6. Check if an element exists in a tuple.\n",
    "my_tuple = (10, 20, 30, 20, 40)\n",
    "\n",
    "if 1 in my_tuple:\n",
    "    print(\"yes\")\n",
    "else:\n",
    "    print(\"no\")"
   ]
  },
  {
   "cell_type": "code",
   "execution_count": 209,
   "id": "01dab9a9-4916-4eba-925b-27d064f2e618",
   "metadata": {},
   "outputs": [
    {
     "name": "stdout",
     "output_type": "stream",
     "text": [
      "[1, 2, 3, 4, 4]\n"
     ]
    }
   ],
   "source": [
    "#7. Convert a tuple to a list.\n",
    "\n",
    "a = (1,2,3,4,4)\n",
    "print(list(a))"
   ]
  },
  {
   "cell_type": "code",
   "execution_count": 210,
   "id": "d96f3ab0-41ba-41f3-8305-0e41e90043c2",
   "metadata": {},
   "outputs": [
    {
     "name": "stdout",
     "output_type": "stream",
     "text": [
      "(1, 2, 3, 4, 4)\n"
     ]
    }
   ],
   "source": [
    "#8. Convert a list to a tuple.\n",
    "\n",
    "a = [1,2,3,4,4]\n",
    "print(tuple(a))"
   ]
  },
  {
   "cell_type": "code",
   "execution_count": 211,
   "id": "6e4b12b1-6f4f-4a0d-a840-63ad5602044e",
   "metadata": {},
   "outputs": [
    {
     "name": "stdout",
     "output_type": "stream",
     "text": [
      "a = 1\n",
      "b = 2\n",
      "c = 3\n"
     ]
    }
   ],
   "source": [
    "#9. Unpack the elements of a tuple into variables.\n",
    "\n",
    "my_tuple = (1, 2, 3)\n",
    "\n",
    "# Unpack the tuple into variables\n",
    "a, b, c = my_tuple\n",
    "\n",
    "# Print the variables\n",
    "print(\"a =\", a)\n",
    "print(\"b =\", b)\n",
    "print(\"c =\", c)\n",
    "\n",
    "\n",
    "\n",
    "\n"
   ]
  },
  {
   "cell_type": "code",
   "execution_count": 212,
   "id": "e514af26-cce5-4c7f-a3a0-2d8943d5f94e",
   "metadata": {},
   "outputs": [
    {
     "name": "stdout",
     "output_type": "stream",
     "text": [
      "Tuple of even numbers from 1 to 10: (2, 4, 6, 8, 10)\n"
     ]
    }
   ],
   "source": [
    "#10. Create a tuple of even numbers from 1 to 10.\n",
    "\n",
    "even_numbers = tuple(range(2, 11, 2))\n",
    "\n",
    "# Print the tuple\n",
    "print(\"Tuple of even numbers from 1 to 10:\", even_numbers)"
   ]
  },
  {
   "cell_type": "code",
   "execution_count": 213,
   "id": "d1136c4c-4e34-4ef7-b643-7e064407fab6",
   "metadata": {},
   "outputs": [
    {
     "name": "stdout",
     "output_type": "stream",
     "text": [
      "Tuple of odd numbers from 1 to 10: (1, 3, 5, 7, 9)\n"
     ]
    }
   ],
   "source": [
    "#11. Create a tuple of odd numbers from 1 to 10.\n",
    "odd_numbers = tuple(range(1, 11, 2))\n",
    "\n",
    "# Print the tuple\n",
    "print(\"Tuple of odd numbers from 1 to 10:\", odd_numbers)"
   ]
  },
  {
   "cell_type": "code",
   "execution_count": 214,
   "id": "abd8b99f-f754-4b91-9513-702069c4faa7",
   "metadata": {},
   "outputs": [
    {
     "name": "stdout",
     "output_type": "stream",
     "text": [
      "Concatenated tuple: (1, 2, 3, 4, 5, 6)\n"
     ]
    }
   ],
   "source": [
    "#12. Concatenate two tuples.\n",
    "tuple1 = (1, 2, 3)\n",
    "tuple2 = (4, 5, 6)\n",
    "\n",
    "# Concatenate the tuples\n",
    "combined_tuple = tuple1 + tuple2\n",
    "\n",
    "# Print the result\n",
    "print(\"Concatenated tuple:\", combined_tuple)"
   ]
  },
  {
   "cell_type": "code",
   "execution_count": 215,
   "id": "1972aa52-dbe1-45bf-acf5-19da0ee89eda",
   "metadata": {},
   "outputs": [
    {
     "name": "stdout",
     "output_type": "stream",
     "text": [
      "Repeated tuple: (1, 2, 3, 1, 2, 3, 1, 2, 3)\n"
     ]
    }
   ],
   "source": [
    "# 13. Repeat a tuple three times.\n",
    "my_tuple = (1, 2, 3)\n",
    "\n",
    "# Repeat the tuple 3 times\n",
    "repeated_tuple = my_tuple * 3\n",
    "\n",
    "# Print the result\n",
    "print(\"Repeated tuple:\", repeated_tuple)"
   ]
  },
  {
   "cell_type": "code",
   "execution_count": 217,
   "id": "02b005e0-c7dc-46b7-b6b2-e41dd8966d28",
   "metadata": {},
   "outputs": [
    {
     "name": "stdout",
     "output_type": "stream",
     "text": [
      "The tuple is not empty.\n"
     ]
    }
   ],
   "source": [
    "#14. Check if a tuple is empty.\n",
    "my_tuple = (1)\n",
    "\n",
    "# Check if the tuple is empty\n",
    "if not my_tuple:\n",
    "    print(\"The tuple is empty.\")\n",
    "else:\n",
    "    print(\"The tuple is not empty.\")"
   ]
  },
  {
   "cell_type": "code",
   "execution_count": 218,
   "id": "fccd50ce-fec3-40b1-b733-d5730af31bf1",
   "metadata": {},
   "outputs": [
    {
     "name": "stdout",
     "output_type": "stream",
     "text": [
      "Nested tuple: ((1, 2), (3, 4), (5, 6))\n"
     ]
    }
   ],
   "source": [
    "#15. Create a nested tuple.\n",
    "nested_tuple = ((1, 2), (3, 4), (5, 6))\n",
    "\n",
    "# Print the nested tuple\n",
    "print(\"Nested tuple:\", nested_tuple)"
   ]
  },
  {
   "cell_type": "code",
   "execution_count": 219,
   "id": "2cce7ad9-4445-4c37-b278-7870fdb59471",
   "metadata": {},
   "outputs": [
    {
     "name": "stdout",
     "output_type": "stream",
     "text": [
      "Set: {1, 2, 3, 4, 5}\n"
     ]
    }
   ],
   "source": [
    "#Set Based Practice Problem :\n",
    "#1. Create a set with integers from 1 to 5.\n",
    "my_set = set(range(1, 6))\n",
    "print(\"Set:\", my_set)"
   ]
  },
  {
   "cell_type": "code",
   "execution_count": 221,
   "id": "5e758772-fbc2-432d-bd89-24937d4580b8",
   "metadata": {},
   "outputs": [
    {
     "name": "stdout",
     "output_type": "stream",
     "text": [
      "[1, 2, 3, 4, 5, 23]\n"
     ]
    }
   ],
   "source": [
    "#2. Add an element to a set.\n",
    "\n",
    "s = [1,2,3,4,5]\n",
    "s.append(23)\n",
    "print(s)"
   ]
  },
  {
   "cell_type": "code",
   "execution_count": 222,
   "id": "ded677ed-c492-41cf-860f-85591ae077af",
   "metadata": {},
   "outputs": [
    {
     "name": "stdout",
     "output_type": "stream",
     "text": [
      "[1, 3, 4, 5]\n"
     ]
    }
   ],
   "source": [
    "#3. Remove an element from a set.\n",
    "s = [1,2,3,4,5]\n",
    "s.remove(2)\n",
    "print(s)"
   ]
  },
  {
   "cell_type": "code",
   "execution_count": 223,
   "id": "5359ef08-61c2-428d-90ef-bc7df9312b52",
   "metadata": {},
   "outputs": [
    {
     "name": "stdout",
     "output_type": "stream",
     "text": [
      "3 exists in the set.\n"
     ]
    }
   ],
   "source": [
    "#4. Check if an element exists in a set.\n",
    "my_set = {1, 2, 3, 4, 5}\n",
    "\n",
    "# Element to check\n",
    "element = 3\n",
    "\n",
    "# Check if element exists in the set\n",
    "if element in my_set:\n",
    "    print(f\"{element} exists in the set.\")\n",
    "else:\n",
    "    print(f\"{element} does not exist in the set.\")"
   ]
  },
  {
   "cell_type": "code",
   "execution_count": 224,
   "id": "559265d4-40f7-4eca-afd6-e3ac86e73665",
   "metadata": {},
   "outputs": [
    {
     "name": "stdout",
     "output_type": "stream",
     "text": [
      "Length of the set: 5\n"
     ]
    }
   ],
   "source": [
    "#5. Find the length of a set without using the `len()` function.\n",
    "my_set = {1, 2, 3, 4, 5}\n",
    "\n",
    "# Initialize counter\n",
    "count = 0\n",
    "\n",
    "# Iterate through the set and increment count\n",
    "for _ in my_set:\n",
    "    count += 1\n",
    "\n",
    "# Print the count\n",
    "print(\"Length of the set:\", count)"
   ]
  },
  {
   "cell_type": "code",
   "execution_count": 225,
   "id": "82622411-0296-48b1-a539-595c63cfdc4b",
   "metadata": {},
   "outputs": [
    {
     "name": "stdout",
     "output_type": "stream",
     "text": [
      "Set after clearing: set()\n"
     ]
    }
   ],
   "source": [
    "#6. Clear all elements from a set.\n",
    "my_set = {1, 2, 3, 4, 5}\n",
    "\n",
    "# Clear the set\n",
    "my_set.clear()\n",
    "\n",
    "# Print the set after clearing\n",
    "print(\"Set after clearing:\", my_set)"
   ]
  },
  {
   "cell_type": "code",
   "execution_count": 226,
   "id": "008398ff-938e-4231-9a9b-6ebc28e477e3",
   "metadata": {},
   "outputs": [
    {
     "name": "stdout",
     "output_type": "stream",
     "text": [
      "Set of even numbers from 1 to 10: {2, 4, 6, 8, 10}\n"
     ]
    }
   ],
   "source": [
    "#7. Create a set of even numbers from 1 to 10.\n",
    "even_numbers = {num for num in range(1, 11) if num % 2 == 0}\n",
    "\n",
    "# Print the set\n",
    "print(\"Set of even numbers from 1 to 10:\", even_numbers)"
   ]
  },
  {
   "cell_type": "code",
   "execution_count": 227,
   "id": "cabf98f8-dd96-43f9-9471-55cd0980b1c6",
   "metadata": {},
   "outputs": [
    {
     "name": "stdout",
     "output_type": "stream",
     "text": [
      "Set of odd numbers from 1 to 10: {1, 3, 5, 7, 9}\n"
     ]
    }
   ],
   "source": [
    "#8. Create a set of odd numbers from 1 to 10.\n",
    "\n",
    "odd_numbers = {num for num in range(1, 11) if num % 2 != 0}\n",
    "\n",
    "# Print the set\n",
    "print(\"Set of odd numbers from 1 to 10:\", odd_numbers)"
   ]
  },
  {
   "cell_type": "code",
   "execution_count": 228,
   "id": "1315f601-1b5c-4130-806a-b21770b289a0",
   "metadata": {},
   "outputs": [
    {
     "name": "stdout",
     "output_type": "stream",
     "text": [
      "Union of the sets: {1, 2, 3, 4, 5}\n"
     ]
    }
   ],
   "source": [
    "#9. Find the union of two sets.\n",
    "\n",
    "set1 = {1, 2, 3}\n",
    "set2 = {3, 4, 5}\n",
    "\n",
    "# Find the union\n",
    "union_set = set1.union(set2)\n",
    "\n",
    "# Print the result\n",
    "print(\"Union of the sets:\", union_set)"
   ]
  },
  {
   "cell_type": "code",
   "execution_count": 229,
   "id": "bbdf8d25-f419-44d3-8ec4-a5398b228ca9",
   "metadata": {},
   "outputs": [
    {
     "name": "stdout",
     "output_type": "stream",
     "text": [
      "Intersection of the sets: {3, 4}\n"
     ]
    }
   ],
   "source": [
    "#10. Find the intersection of two sets.\n",
    "set1 = {1, 2, 3, 4}\n",
    "set2 = {3, 4, 5, 6}\n",
    "\n",
    "# Find the intersection\n",
    "intersection_set = set1.intersection(set2)\n",
    "\n",
    "# Print the result\n",
    "print(\"Intersection of the sets:\", intersection_set)"
   ]
  },
  {
   "cell_type": "code",
   "execution_count": 230,
   "id": "feb84990-3977-4b8e-8852-ef1fd7a42e51",
   "metadata": {},
   "outputs": [
    {
     "name": "stdout",
     "output_type": "stream",
     "text": [
      "Difference of the sets: {1, 2}\n"
     ]
    }
   ],
   "source": [
    "#11. Find the difference between two sets.\n",
    "set1 = {1, 2, 3, 4}\n",
    "set2 = {3, 4, 5, 6}\n",
    "\n",
    "# Find the difference (elements in set1 but not in set2)\n",
    "difference_set = set1.difference(set2)\n",
    "\n",
    "# Print the result\n",
    "print(\"Difference of the sets:\", difference_set)"
   ]
  },
  {
   "cell_type": "code",
   "execution_count": 231,
   "id": "5aedb3cf-25f8-4596-957c-7d63ce86271f",
   "metadata": {},
   "outputs": [
    {
     "name": "stdout",
     "output_type": "stream",
     "text": [
      "set1 is a subset of set2.\n"
     ]
    }
   ],
   "source": [
    "#12. Check if a set is a subset of another set.\n",
    "set1 = {1, 2}\n",
    "set2 = {1, 2, 3, 4}\n",
    "\n",
    "# Check if set1 is a subset of set2\n",
    "if set1.issubset(set2):\n",
    "    print(\"set1 is a subset of set2.\")\n",
    "else:\n",
    "    print(\"set1 is not a subset of set2.\")"
   ]
  },
  {
   "cell_type": "code",
   "execution_count": 232,
   "id": "fd595bef-3300-4eb9-922d-95346c07fc61",
   "metadata": {},
   "outputs": [
    {
     "name": "stdout",
     "output_type": "stream",
     "text": [
      "set1 is a superset of set2.\n"
     ]
    }
   ],
   "source": [
    "#13. Check if a set is a superset of another set.\n",
    "set1 = {1, 2, 3, 4}\n",
    "set2 = {2, 3}\n",
    "\n",
    "# Check if set1 is a superset of set2\n",
    "if set1.issuperset(set2):\n",
    "    print(\"set1 is a superset of set2.\")\n",
    "else:\n",
    "    print(\"set1 is not a superset of set2.\")"
   ]
  },
  {
   "cell_type": "code",
   "execution_count": null,
   "id": "63ce0ffe-f19f-41e1-940b-f8a1906cb0db",
   "metadata": {},
   "outputs": [],
   "source": [
    "14. Create a set from a list."
   ]
  },
  {
   "cell_type": "code",
   "execution_count": null,
   "id": "ffd57275-f953-448b-872c-cefc51d20fed",
   "metadata": {},
   "outputs": [],
   "source": []
  },
  {
   "cell_type": "code",
   "execution_count": null,
   "id": "027f08da-3926-4588-94c1-7d955e1f9248",
   "metadata": {},
   "outputs": [],
   "source": []
  },
  {
   "cell_type": "code",
   "execution_count": null,
   "id": "74a5b8c2-aa24-416d-a083-db0fd50cf63b",
   "metadata": {},
   "outputs": [],
   "source": []
  },
  {
   "cell_type": "code",
   "execution_count": null,
   "id": "fddbe48d-8c96-4b98-bab8-2d35cb684153",
   "metadata": {},
   "outputs": [],
   "source": []
  }
 ],
 "metadata": {
  "kernelspec": {
   "display_name": "Python 3 (ipykernel)",
   "language": "python",
   "name": "python3"
  },
  "language_info": {
   "codemirror_mode": {
    "name": "ipython",
    "version": 3
   },
   "file_extension": ".py",
   "mimetype": "text/x-python",
   "name": "python",
   "nbconvert_exporter": "python",
   "pygments_lexer": "ipython3",
   "version": "3.12.7"
  }
 },
 "nbformat": 4,
 "nbformat_minor": 5
}
